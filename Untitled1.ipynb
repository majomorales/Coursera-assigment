{
 "cells": [
  {
   "cell_type": "markdown",
   "id": "cd025073-6ecb-450b-8d22-ad4a550bb1f6",
   "metadata": {},
   "source": [
    "\"My Jupyter Notebook on IBM Watson Studio\""
   ]
  },
  {
   "cell_type": "markdown",
   "id": "8182768d-674a-4be9-b8c8-326bfea24ec3",
   "metadata": {},
   "source": [
    "**Maria Jose Morales Torres** **Learning student, wanted to introduce myself in datascience environment**"
   ]
  },
  {
   "cell_type": "markdown",
   "id": "36c20009-083a-48f1-be44-f0b1f847bd7b",
   "metadata": {},
   "source": [
    "*I'm interested in datascience, since I want to improve data management in my field, and use the perfect model to make projections about investments, scenario analysis, and the performance of different companies in their sustainability path*"
   ]
  },
  {
   "cell_type": "markdown",
   "id": "bf52eac4-472f-4ba2-aed1-3c67e469b1ec",
   "metadata": {},
   "source": [
    "***Welcome and purposes***"
   ]
  },
  {
   "cell_type": "code",
   "execution_count": 2,
   "id": "c2cdce9d-f5bc-437b-ad51-686188f5b1d8",
   "metadata": {},
   "outputs": [
    {
     "name": "stdout",
     "output_type": "stream",
     "text": [
      "Hello world. Today I'm gaining some knowledge in datascience environment. Looking forwward to learn new rules and codes for data displayment\n"
     ]
    }
   ],
   "source": [
    "print (\"Hello world. Today I'm gaining some knowledge in datascience environment. Looking forwward to learn new rules and codes for data displayment\")"
   ]
  },
  {
   "cell_type": "markdown",
   "id": "fc7b265e-a990-421d-9873-991e8b2de2a6",
   "metadata": {},
   "source": [
    "In line with the previous, I'm learning the good use of Markdowns, therefore I would like to introduce 3 main things about sun importance:\n",
    "1. Is essential for the `photosynthesis` of this planet, and the entire life living within earth rely on sun light\n",
    "2. It contributes to `Vittamine D` presence in humnans \n",
    "3. Is an `unniversal sign` that there is a solar system in the `geospatial` point in the universe \n",
    "⋅⋅*Find a beuatiful sunset picture below.\n",
    "Reference-style: \n",
    "![alt text][logo]\n",
    "\n",
    "[logo]: https://www.google.com/search?q=sunsets&sxsrf=AJOqlzWzuU7CBxXzp37VkCYCpytVWZE3PA:1675861879839&source=lnms&tbm=isch&sa=X&ved=2ahUKEwjhh6mAgIb9AhWoxwIHHWq6BicQ_AUoAXoECAEQAw&biw=1414&bih=796&dpr=1#imgrc=30NW1XOzgp95uM \n",
    "\n"
   ]
  },
  {
   "cell_type": "code",
   "execution_count": null,
   "id": "5d4af5c2-57b3-4897-bc06-08349edc966b",
   "metadata": {},
   "outputs": [],
   "source": []
  }
 ],
 "metadata": {
  "kernelspec": {
   "display_name": "Python",
   "language": "python",
   "name": "conda-env-python-py"
  },
  "language_info": {
   "codemirror_mode": {
    "name": "ipython",
    "version": 3
   },
   "file_extension": ".py",
   "mimetype": "text/x-python",
   "name": "python",
   "nbconvert_exporter": "python",
   "pygments_lexer": "ipython3",
   "version": "3.7.12"
  }
 },
 "nbformat": 4,
 "nbformat_minor": 5
}
